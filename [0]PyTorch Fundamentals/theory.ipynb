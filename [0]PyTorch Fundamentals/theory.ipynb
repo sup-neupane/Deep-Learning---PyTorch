{
 "cells": [
  {
   "cell_type": "markdown",
   "id": "73e8c114",
   "metadata": {},
   "source": [
    "![Failed To Load](./images/img0.png)  \n",
    "**Deep Learning is a type of ML algorithm.**\n",
    "![Failed To Load](./images/img1.png)\n"
   ]
  },
  {
   "cell_type": "markdown",
   "id": "caa25692",
   "metadata": {},
   "source": [
    "**ML is different paradigm from classic programming**\n",
    "![Failed To Load](./images/img2.png)"
   ]
  },
  {
   "cell_type": "markdown",
   "id": "f17c03ac",
   "metadata": {},
   "source": [
    "**Why use ML/DL?**\n",
    "![Failed To Load](./images/img3.png)\n",
    "![Failed To Load](./images/img4.png)\n",
    "![Failed To Load](./images/img5.png)\n",
    "\n",
    "**ML vs DL**\n",
    "![Failed To Load](./images/img6.png)\n",
    "![Failed To Load](./images/img7.png)"
   ]
  },
  {
   "cell_type": "markdown",
   "id": "4cc20222",
   "metadata": {},
   "source": [
    "**What are neural networks?**"
   ]
  },
  {
   "cell_type": "markdown",
   "id": "4e556503",
   "metadata": {},
   "source": [
    "![Failed To Load](./images/img8.png)\n",
    "![Failed To Load](./images/img9.png)"
   ]
  }
 ],
 "metadata": {
  "kernelspec": {
   "display_name": "venv",
   "language": "python",
   "name": "python3"
  },
  "language_info": {
   "name": "python",
   "version": "3.13.1"
  }
 },
 "nbformat": 4,
 "nbformat_minor": 5
}
