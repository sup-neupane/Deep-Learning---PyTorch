{
 "cells": [
  {
   "cell_type": "markdown",
   "id": "73e8c114",
   "metadata": {},
   "source": [
    "![Failed To Load](./images/img0.png)  \n",
    "**Deep Learning is a type of ML algorithm.**\n",
    "![Failed To Load](./images/img1.png)\n"
   ]
  },
  {
   "cell_type": "markdown",
   "id": "caa25692",
   "metadata": {},
   "source": [
    "**ML is different paradigm from classic programming**\n",
    "![Failed To Load](./images/img2.png)"
   ]
  },
  {
   "cell_type": "markdown",
   "id": "f17c03ac",
   "metadata": {},
   "source": [
    "**Why use ML/DL?**\n",
    "![Failed To Load](./images/img3.png)\n",
    "![Failed To Load](./images/img4.png)\n",
    "![Failed To Load](./images/img5.png)\n",
    "\n",
    "**ML vs DL**\n",
    "![Failed To Load](./images/img6.png)\n",
    "![Failed To Load](./images/img7.png)"
   ]
  },
  {
   "cell_type": "markdown",
   "id": "4cc20222",
   "metadata": {},
   "source": [
    "**What are neural networks?**"
   ]
  },
  {
   "cell_type": "markdown",
   "id": "4e556503",
   "metadata": {},
   "source": [
    "![Failed To Load](./images/img8.png)\n",
    "![Failed To Load](./images/img9.png)"
   ]
  },
  {
   "cell_type": "markdown",
   "id": "62a618a7",
   "metadata": {},
   "source": [
    "**Learning Paradigms:**  \n",
    "![Failed To Load](./images/img10.png)  \n",
    "\n",
    "**There is also a fourth type called reinforcement learning (action,reward)**"
   ]
  },
  {
   "cell_type": "markdown",
   "id": "6df4485c",
   "metadata": {},
   "source": [
    "**Where is deep learning used?**"
   ]
  },
  {
   "cell_type": "markdown",
   "id": "88ddebb4",
   "metadata": {},
   "source": [
    "![Failed To Load](./images/img11.png)"
   ]
  },
  {
   "cell_type": "markdown",
   "id": "8fa08667",
   "metadata": {},
   "source": [
    "**Why PyTorch?**\n",
    "![Failed To Load](./images/img12.png)\n",
    "![Failed To Load](./images/img13.png)"
   ]
  },
  {
   "cell_type": "markdown",
   "id": "c484a1d1",
   "metadata": {},
   "source": [
    "**What is a Tensor?**\n",
    "![Failed To Load](./images/img14.png)\n",
    "\n",
    "**Workflow**\n",
    "![Failed To Load](./images/img15.png)"
   ]
  },
  {
   "cell_type": "markdown",
   "id": "ec9bae74",
   "metadata": {},
   "source": []
  }
 ],
 "metadata": {
  "kernelspec": {
   "display_name": "venv",
   "language": "python",
   "name": "python3"
  },
  "language_info": {
   "name": "python",
   "version": "3.13.1"
  }
 },
 "nbformat": 4,
 "nbformat_minor": 5
}
