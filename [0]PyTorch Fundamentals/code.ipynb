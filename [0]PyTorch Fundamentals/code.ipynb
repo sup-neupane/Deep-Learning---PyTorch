{
 "cells": [
  {
   "cell_type": "code",
   "execution_count": 1,
   "id": "d46f3140",
   "metadata": {},
   "outputs": [
    {
     "name": "stdout",
     "output_type": "stream",
     "text": [
      "2.7.0+cu118\n"
     ]
    }
   ],
   "source": [
    "import torch\n",
    "print(torch.__version__)"
   ]
  },
  {
   "cell_type": "markdown",
   "id": "a38539b7",
   "metadata": {},
   "source": [
    "### **Intro to Tensors** "
   ]
  },
  {
   "cell_type": "markdown",
   "id": "5f363561",
   "metadata": {},
   "source": [
    "**Creating Tensors**"
   ]
  },
  {
   "cell_type": "code",
   "execution_count": 2,
   "id": "23eefc18",
   "metadata": {},
   "outputs": [
    {
     "data": {
      "text/plain": [
       "tensor(7)"
      ]
     },
     "execution_count": 2,
     "metadata": {},
     "output_type": "execute_result"
    }
   ],
   "source": [
    "#Scalar\n",
    "scalar = torch.tensor(7)\n",
    "scalar"
   ]
  },
  {
   "cell_type": "code",
   "execution_count": 3,
   "id": "539f22e2",
   "metadata": {},
   "outputs": [
    {
     "data": {
      "text/plain": [
       "0"
      ]
     },
     "execution_count": 3,
     "metadata": {},
     "output_type": "execute_result"
    }
   ],
   "source": [
    "scalar.ndim"
   ]
  },
  {
   "cell_type": "code",
   "execution_count": 4,
   "id": "4f871c7a",
   "metadata": {},
   "outputs": [
    {
     "data": {
      "text/plain": [
       "tensor([7, 7])"
      ]
     },
     "execution_count": 4,
     "metadata": {},
     "output_type": "execute_result"
    }
   ],
   "source": [
    "#Vector\n",
    "vector = torch.tensor([7,7])\n",
    "vector"
   ]
  },
  {
   "cell_type": "code",
   "execution_count": 5,
   "id": "4d6c687e",
   "metadata": {},
   "outputs": [
    {
     "data": {
      "text/plain": [
       "1"
      ]
     },
     "execution_count": 5,
     "metadata": {},
     "output_type": "execute_result"
    }
   ],
   "source": [
    "vector.ndim"
   ]
  },
  {
   "cell_type": "code",
   "execution_count": 6,
   "id": "08c7c29d",
   "metadata": {},
   "outputs": [
    {
     "data": {
      "text/plain": [
       "torch.Size([2])"
      ]
     },
     "execution_count": 6,
     "metadata": {},
     "output_type": "execute_result"
    }
   ],
   "source": [
    "vector.shape"
   ]
  },
  {
   "cell_type": "code",
   "execution_count": 7,
   "id": "8a918869",
   "metadata": {},
   "outputs": [
    {
     "data": {
      "text/plain": [
       "tensor([[1, 2],\n",
       "        [3, 4]])"
      ]
     },
     "execution_count": 7,
     "metadata": {},
     "output_type": "execute_result"
    }
   ],
   "source": [
    "#MATRIX\n",
    "MATRIX = torch.tensor([[1 , 2],\n",
    "                       [3 , 4]])\n",
    "MATRIX"
   ]
  },
  {
   "cell_type": "code",
   "execution_count": 8,
   "id": "ecb79f25",
   "metadata": {},
   "outputs": [
    {
     "data": {
      "text/plain": [
       "2"
      ]
     },
     "execution_count": 8,
     "metadata": {},
     "output_type": "execute_result"
    }
   ],
   "source": [
    "MATRIX.ndim"
   ]
  },
  {
   "cell_type": "code",
   "execution_count": 9,
   "id": "700ccd13",
   "metadata": {},
   "outputs": [
    {
     "data": {
      "text/plain": [
       "torch.Size([2, 2])"
      ]
     },
     "execution_count": 9,
     "metadata": {},
     "output_type": "execute_result"
    }
   ],
   "source": [
    "MATRIX.shape"
   ]
  },
  {
   "cell_type": "code",
   "execution_count": 10,
   "id": "0c4f0ec9",
   "metadata": {},
   "outputs": [],
   "source": [
    "#Tensor\n",
    "TENSOR = torch.tensor([[\n",
    "    [1 , 2 , 3],\n",
    "    [4 , 5 , 6],\n",
    "    [7 , 8 , 9]\n",
    "]])"
   ]
  },
  {
   "cell_type": "code",
   "execution_count": 11,
   "id": "c51e293e",
   "metadata": {},
   "outputs": [
    {
     "data": {
      "text/plain": [
       "3"
      ]
     },
     "execution_count": 11,
     "metadata": {},
     "output_type": "execute_result"
    }
   ],
   "source": [
    "TENSOR.ndim"
   ]
  },
  {
   "cell_type": "code",
   "execution_count": 12,
   "id": "1b5c21b4",
   "metadata": {},
   "outputs": [
    {
     "data": {
      "text/plain": [
       "torch.Size([1, 3, 3])"
      ]
     },
     "execution_count": 12,
     "metadata": {},
     "output_type": "execute_result"
    }
   ],
   "source": [
    "TENSOR.shape"
   ]
  },
  {
   "cell_type": "markdown",
   "id": "8d24aacf",
   "metadata": {},
   "source": [
    "**Random Tensors**  \n",
    "We've established tensors represent some form of data.  \n",
    "  \n",
    "And machine learning models such as neural networks manipulate and seek patterns within tensors.  \n",
    "  \n",
    "But when building machine learning models with PyTorch, it's rare you'll create tensors by hand (like what we've been doing).  \n",
    "  \n",
    "Instead, a machine learning model often starts out with large random tensors of numbers and adjusts these random numbers as it works through data to better represent it.  \n",
    "  \n",
    "In essence:  \n",
    "  \n",
    "Start with random numbers -> look at data -> update random numbers -> look at data -> update random numbers...  "
   ]
  },
  {
   "cell_type": "code",
   "execution_count": 13,
   "id": "6c8f96f4",
   "metadata": {},
   "outputs": [
    {
     "data": {
      "text/plain": [
       "tensor([[0.3798, 0.1068, 0.1644, 0.9827],\n",
       "        [0.6617, 0.5768, 0.7822, 0.9546],\n",
       "        [0.1609, 0.8992, 0.8544, 0.8050]])"
      ]
     },
     "execution_count": 13,
     "metadata": {},
     "output_type": "execute_result"
    }
   ],
   "source": [
    "#Create a random tensor of size (3,4)\n",
    "random_tensor = torch.rand(3 , 4)\n",
    "random_tensor"
   ]
  },
  {
   "cell_type": "code",
   "execution_count": 14,
   "id": "641dfbe0",
   "metadata": {},
   "outputs": [
    {
     "data": {
      "text/plain": [
       "2"
      ]
     },
     "execution_count": 14,
     "metadata": {},
     "output_type": "execute_result"
    }
   ],
   "source": [
    "random_tensor.ndim"
   ]
  },
  {
   "cell_type": "code",
   "execution_count": 15,
   "id": "749e9647",
   "metadata": {},
   "outputs": [
    {
     "data": {
      "text/plain": [
       "torch.Size([3, 4])"
      ]
     },
     "execution_count": 15,
     "metadata": {},
     "output_type": "execute_result"
    }
   ],
   "source": [
    "random_tensor.shape"
   ]
  },
  {
   "cell_type": "code",
   "execution_count": 16,
   "id": "eed2e907",
   "metadata": {},
   "outputs": [],
   "source": [
    "#Random tensor with similar to shape of image tensor\n",
    "random_image_tensor = torch.rand(size=(3,224,224))  #height,width,colour channels(R,G,B)"
   ]
  },
  {
   "cell_type": "code",
   "execution_count": 17,
   "id": "fba9bdeb",
   "metadata": {},
   "outputs": [
    {
     "data": {
      "text/plain": [
       "tensor([[[0.0456, 0.4214, 0.3694,  ..., 0.8640, 0.8219, 0.8910],\n",
       "         [0.8760, 0.1626, 0.2297,  ..., 0.9387, 0.8654, 0.9901],\n",
       "         [0.1357, 0.5308, 0.8181,  ..., 0.9417, 0.9130, 0.5553],\n",
       "         ...,\n",
       "         [0.5530, 0.7742, 0.8497,  ..., 0.7511, 0.1936, 0.3892],\n",
       "         [0.9904, 0.6786, 0.9995,  ..., 0.8355, 0.0337, 0.7237],\n",
       "         [0.0189, 0.4294, 0.3349,  ..., 0.4111, 0.3714, 0.2915]],\n",
       "\n",
       "        [[0.8640, 0.4119, 0.7333,  ..., 0.5668, 0.2415, 0.2179],\n",
       "         [0.7553, 0.6281, 0.5142,  ..., 0.4723, 0.0261, 0.4117],\n",
       "         [0.3659, 0.7732, 0.5649,  ..., 0.6857, 0.3165, 0.3643],\n",
       "         ...,\n",
       "         [0.2484, 0.1091, 0.6299,  ..., 0.3825, 0.1529, 0.5347],\n",
       "         [0.2287, 0.9320, 0.7485,  ..., 0.6546, 0.6225, 0.2594],\n",
       "         [0.8393, 0.6147, 0.9840,  ..., 0.5801, 0.2359, 0.7625]],\n",
       "\n",
       "        [[0.6940, 0.3195, 0.6369,  ..., 0.3358, 0.9575, 0.0341],\n",
       "         [0.6430, 0.9871, 0.4790,  ..., 0.0563, 0.0435, 0.4154],\n",
       "         [0.6277, 0.0870, 0.1556,  ..., 0.0538, 0.6734, 0.3111],\n",
       "         ...,\n",
       "         [0.9452, 0.0579, 0.3412,  ..., 0.5293, 0.5706, 0.5561],\n",
       "         [0.0292, 0.5629, 0.4824,  ..., 0.7215, 0.0800, 0.9295],\n",
       "         [0.0477, 0.2567, 0.9414,  ..., 0.8052, 0.1955, 0.1567]]])"
      ]
     },
     "execution_count": 17,
     "metadata": {},
     "output_type": "execute_result"
    }
   ],
   "source": [
    "random_image_tensor"
   ]
  },
  {
   "cell_type": "markdown",
   "id": "fed42714",
   "metadata": {},
   "source": [
    "Example:  \n",
    "![Failed To Load](./images/img16.png)"
   ]
  },
  {
   "cell_type": "markdown",
   "id": "e50771bd",
   "metadata": {},
   "source": [
    "**Zeros and Ones**"
   ]
  },
  {
   "cell_type": "code",
   "execution_count": 18,
   "id": "9624b558",
   "metadata": {},
   "outputs": [],
   "source": [
    "#Creating a tensor of all zeros \n",
    "zeros = torch.zeros((3,4))"
   ]
  },
  {
   "cell_type": "code",
   "execution_count": 19,
   "id": "09a25da7",
   "metadata": {},
   "outputs": [
    {
     "data": {
      "text/plain": [
       "tensor([[0., 0., 0., 0.],\n",
       "        [0., 0., 0., 0.],\n",
       "        [0., 0., 0., 0.]])"
      ]
     },
     "execution_count": 19,
     "metadata": {},
     "output_type": "execute_result"
    }
   ],
   "source": [
    "zeros"
   ]
  },
  {
   "cell_type": "code",
   "execution_count": 20,
   "id": "710222f8",
   "metadata": {},
   "outputs": [
    {
     "data": {
      "text/plain": [
       "tensor([[1., 1., 1., 1.],\n",
       "        [1., 1., 1., 1.],\n",
       "        [1., 1., 1., 1.]])"
      ]
     },
     "execution_count": 20,
     "metadata": {},
     "output_type": "execute_result"
    }
   ],
   "source": [
    "#Creating a tensor of all ones \n",
    "ones = torch.ones((3,4))\n",
    "ones"
   ]
  },
  {
   "cell_type": "code",
   "execution_count": 21,
   "id": "2ec335f5",
   "metadata": {},
   "outputs": [
    {
     "data": {
      "text/plain": [
       "(torch.float32, torch.float32)"
      ]
     },
     "execution_count": 21,
     "metadata": {},
     "output_type": "execute_result"
    }
   ],
   "source": [
    "#The default data type is float\n",
    "zeros.dtype, ones.dtype"
   ]
  },
  {
   "cell_type": "code",
   "execution_count": 22,
   "id": "51ddf26c",
   "metadata": {},
   "outputs": [
    {
     "data": {
      "text/plain": [
       "tensor([[1, 1, 1, 1],\n",
       "        [1, 1, 1, 1],\n",
       "        [1, 1, 1, 1]], dtype=torch.int32)"
      ]
     },
     "execution_count": 22,
     "metadata": {},
     "output_type": "execute_result"
    }
   ],
   "source": [
    "ones = torch.ones(size = (3,4), dtype=torch.int)\n",
    "ones"
   ]
  },
  {
   "cell_type": "markdown",
   "id": "3feabd15",
   "metadata": {},
   "source": [
    "**Creating Range of Tensors and Tensors-Like**"
   ]
  },
  {
   "cell_type": "code",
   "execution_count": 23,
   "id": "57a2caf8",
   "metadata": {},
   "outputs": [
    {
     "data": {
      "text/plain": [
       "tensor([ 0,  1,  2,  3,  4,  5,  6,  7,  8,  9, 10])"
      ]
     },
     "execution_count": 23,
     "metadata": {},
     "output_type": "execute_result"
    }
   ],
   "source": [
    "#Using torch.arange()\n",
    "one_to_ten = torch.arange(0 , 11)\n",
    "one_to_ten  "
   ]
  },
  {
   "cell_type": "code",
   "execution_count": 24,
   "id": "6056195f",
   "metadata": {},
   "outputs": [
    {
     "data": {
      "text/plain": [
       "tensor([  0, 100, 200, 300, 400, 500, 600, 700, 800, 900])"
      ]
     },
     "execution_count": 24,
     "metadata": {},
     "output_type": "execute_result"
    }
   ],
   "source": [
    "tensor_range = torch.arange(start = 0, end = 1000, step = 100)\n",
    "tensor_range"
   ]
  },
  {
   "cell_type": "code",
   "execution_count": 25,
   "id": "b87a1e95",
   "metadata": {},
   "outputs": [
    {
     "data": {
      "text/plain": [
       "tensor([0, 0, 0, 0, 0, 0, 0, 0, 0, 0, 0])"
      ]
     },
     "execution_count": 25,
     "metadata": {},
     "output_type": "execute_result"
    }
   ],
   "source": [
    "#Creating tensors like\n",
    "zero_tens = torch.zeros_like(input = one_to_ten) # Same shape like input\n",
    "zero_tens"
   ]
  },
  {
   "cell_type": "markdown",
   "id": "8bfc45d4",
   "metadata": {},
   "source": [
    "### **Tensor Datatypes**"
   ]
  },
  {
   "cell_type": "code",
   "execution_count": 26,
   "id": "205ced53",
   "metadata": {},
   "outputs": [
    {
     "data": {
      "text/plain": [
       "tensor([3., 6., 9.])"
      ]
     },
     "execution_count": 26,
     "metadata": {},
     "output_type": "execute_result"
    }
   ],
   "source": [
    "#Float 32 tensor\n",
    "float_32_tensor = torch.tensor([3.0, 6.0, 9.0],\n",
    "                               dtype= torch.float32,  #Higher precision, slower computation\n",
    "                               device = None,   #What device is your tensor on\n",
    "                               requires_grad= False  #Whether or not to track gradients with this tensors operations\n",
    "                               )\n",
    "float_32_tensor"
   ]
  },
  {
   "cell_type": "code",
   "execution_count": 27,
   "id": "87842c55",
   "metadata": {},
   "outputs": [
    {
     "data": {
      "text/plain": [
       "torch.float32"
      ]
     },
     "execution_count": 27,
     "metadata": {},
     "output_type": "execute_result"
    }
   ],
   "source": [
    "float_32_tensor.dtype"
   ]
  },
  {
   "cell_type": "code",
   "execution_count": 28,
   "id": "3109c9eb",
   "metadata": {},
   "outputs": [
    {
     "data": {
      "text/plain": [
       "torch.float16"
      ]
     },
     "execution_count": 28,
     "metadata": {},
     "output_type": "execute_result"
    }
   ],
   "source": [
    "float_16_tensor = float_32_tensor.type(torch.float16)\n",
    "float_16_tensor.dtype"
   ]
  },
  {
   "cell_type": "code",
   "execution_count": 29,
   "id": "fbb92af7",
   "metadata": {},
   "outputs": [
    {
     "data": {
      "text/plain": [
       "torch.float16"
      ]
     },
     "execution_count": 29,
     "metadata": {},
     "output_type": "execute_result"
    }
   ],
   "source": [
    "#Or you can specify params:\n",
    "float_16_tensor = torch.tensor([3.0, 6.0, 9.0],\n",
    "                               dtype= torch.float16, \n",
    "                               device = None,  \n",
    "                               requires_grad= False  \n",
    "                               )\n",
    "float_16_tensor.dtype"
   ]
  },
  {
   "cell_type": "markdown",
   "id": "82705425",
   "metadata": {},
   "source": [
    "### **Getting Information from Tensors**  \n",
    "Once you've created tensors (or someone else or a PyTorch module has created them for you), you might want to get some information from them.  \n",
    "  \n",
    "We've seen these before but three of the most common attributes you'll want to find out about tensors are:  \n",
    "  \n",
    "`shape` - what shape is the tensor? (some operations require specific shape rules)  \n",
    "`dtype` - what datatype are the elements within the tensor stored in?  \n",
    "`device` - what device is the tensor stored on? (usually GPU or CPU)  \n",
    "Let's create a random tensor and find out details about it.  "
   ]
  },
  {
   "cell_type": "code",
   "execution_count": 30,
   "id": "7aba8259",
   "metadata": {},
   "outputs": [
    {
     "name": "stdout",
     "output_type": "stream",
     "text": [
      "tensor([[0.6029, 0.6689, 0.3500],\n",
      "        [0.8158, 0.5999, 0.1139],\n",
      "        [0.2203, 0.3269, 0.9281]])\n",
      "The shape of tensor is : torch.Size([3, 3])\n",
      "The device of tensor is : cpu\n",
      "The datatype of tensor is : torch.float32\n"
     ]
    }
   ],
   "source": [
    "#Create random tensor\n",
    "some_tensor = torch.rand(3,3)\n",
    "\n",
    "print(some_tensor)\n",
    "\n",
    "print(f\"The shape of tensor is : {some_tensor.shape}\")\n",
    "print(f\"The device of tensor is : {some_tensor.device}\")\n",
    "print(f\"The datatype of tensor is : {some_tensor.dtype}\")"
   ]
  },
  {
   "cell_type": "markdown",
   "id": "22af6514",
   "metadata": {},
   "source": [
    "### **Manipulating Tensors**  \n",
    "In deep learning, data (images, text, video, audio, protein structures, etc) gets represented as tensors.  \n",
    "  \n",
    "A model learns by investigating those tensors and performing a series of operations (could be 1,000,000s+) on tensors   to create a representation of the patterns in the input data.  \n",
    "  \n",
    "These operations are often a wonderful dance between:  \n",
    "  \n",
    "Addition  \n",
    "Substraction  \n",
    "Multiplication (element-wise)  \n",
    "Division  \n",
    "Matrix multiplication  \n",
    "And that's it. Sure there are a few more here and there but these are the basic building blocks of neural networks.  \n",
    "  \n",
    "Stacking these building blocks in the right way, you can create the most sophisticated of neural networks (just like lego!).  "
   ]
  },
  {
   "cell_type": "markdown",
   "id": "659397c7",
   "metadata": {},
   "source": [
    "**Basic Operations**"
   ]
  },
  {
   "cell_type": "code",
   "execution_count": 31,
   "id": "6d9c0e81",
   "metadata": {},
   "outputs": [
    {
     "data": {
      "text/plain": [
       "tensor([11, 12, 13])"
      ]
     },
     "execution_count": 31,
     "metadata": {},
     "output_type": "execute_result"
    }
   ],
   "source": [
    "#Create a tensor and add 10 to them\n",
    "tensor = torch.tensor([1 , 2, 3])\n",
    "tensor + 10"
   ]
  },
  {
   "cell_type": "code",
   "execution_count": 32,
   "id": "88dac593",
   "metadata": {},
   "outputs": [
    {
     "data": {
      "text/plain": [
       "tensor([10, 20, 30])"
      ]
     },
     "execution_count": 32,
     "metadata": {},
     "output_type": "execute_result"
    }
   ],
   "source": [
    "#Create a tensor and multiply by 10\n",
    "tensor * 10"
   ]
  },
  {
   "cell_type": "code",
   "execution_count": 33,
   "id": "c1327fff",
   "metadata": {},
   "outputs": [
    {
     "data": {
      "text/plain": [
       "tensor([-9, -8, -7])"
      ]
     },
     "execution_count": 33,
     "metadata": {},
     "output_type": "execute_result"
    }
   ],
   "source": [
    "#Subtract by 10\n",
    "tensor - 10"
   ]
  },
  {
   "cell_type": "code",
   "execution_count": 35,
   "id": "2aeb7e97",
   "metadata": {},
   "outputs": [
    {
     "data": {
      "text/plain": [
       "tensor([11, 12, 13])"
      ]
     },
     "execution_count": 35,
     "metadata": {},
     "output_type": "execute_result"
    }
   ],
   "source": [
    "#Using inbuilt functions\n",
    "torch.add(tensor , 10 \n",
    "          )"
   ]
  },
  {
   "cell_type": "markdown",
   "id": "7a0a0cc2",
   "metadata": {},
   "source": [
    "**Matrix Multiplication**  \n",
    "  \n",
    "Main ways of performing matrix multiplication:  \n",
    "  \n",
    "**1. Element wise multiplication**"
   ]
  },
  {
   "cell_type": "code",
   "execution_count": 36,
   "id": "f43aff3e",
   "metadata": {},
   "outputs": [
    {
     "name": "stdout",
     "output_type": "stream",
     "text": [
      "tensor([1, 2, 3]) * tensor([1, 2, 3])\n",
      "tensor([1, 4, 9])\n"
     ]
    }
   ],
   "source": [
    "#Element wise operation\n",
    "\n",
    "print(tensor , \"*\" , tensor)\n",
    "print(tensor * tensor)"
   ]
  },
  {
   "cell_type": "code",
   "execution_count": 37,
   "id": "210f353e",
   "metadata": {},
   "outputs": [
    {
     "data": {
      "text/plain": [
       "tensor(14)"
      ]
     },
     "execution_count": 37,
     "metadata": {},
     "output_type": "execute_result"
    }
   ],
   "source": [
    "torch.matmul(tensor, tensor)"
   ]
  },
  {
   "cell_type": "markdown",
   "id": "f0c4b28d",
   "metadata": {},
   "source": [
    "**2. Matrix multiplication**  \n",
    "PyTorch implements matrix multiplication functionality in the torch.matmul() method.  \n",
    "  \n",
    "The main two rules for matrix multiplication to remember are:  \n",
    "  \n",
    "The inner dimensions must match:  \n",
    "`(3, 2) @ (3, 2)` won't work  \n",
    "`(2, 3) @ (3, 2) `will work  \n",
    "`(3, 2) @ (2, 3)` will work  \n",
    "The resulting matrix has the shape of the outer dimensions:   \n",
    "`(2, 3) @ (3, 2) -> (2, 2) `   \n",
    "`(3, 2) @ (2, 3) -> (3, 3) `  \n",
    "> Note: \"@\" in Python is the symbol for matrix multiplication.  \n",
    "> Note: One of the most common errors in deep learning: shape errors"
   ]
  },
  {
   "cell_type": "code",
   "execution_count": 38,
   "id": "6a793881",
   "metadata": {},
   "outputs": [
    {
     "ename": "RuntimeError",
     "evalue": "mat1 and mat2 shapes cannot be multiplied (3x2 and 3x2)",
     "output_type": "error",
     "traceback": [
      "\u001b[31m---------------------------------------------------------------------------\u001b[39m",
      "\u001b[31mRuntimeError\u001b[39m                              Traceback (most recent call last)",
      "\u001b[36mCell\u001b[39m\u001b[36m \u001b[39m\u001b[32mIn[38]\u001b[39m\u001b[32m, line 15\u001b[39m\n\u001b[32m      8\u001b[39m tensor_B = torch.tensor([\n\u001b[32m      9\u001b[39m     [\u001b[32m7\u001b[39m , \u001b[32m10\u001b[39m],\n\u001b[32m     10\u001b[39m     [\u001b[32m8\u001b[39m , \u001b[32m11\u001b[39m],\n\u001b[32m     11\u001b[39m     [\u001b[32m9\u001b[39m , \u001b[32m12\u001b[39m]\n\u001b[32m     12\u001b[39m ])\n\u001b[32m     14\u001b[39m \u001b[38;5;66;03m# torch.mm(tensor_A , tensor_B)  # torch.mm is the same as torch.matmul()\u001b[39;00m\n\u001b[32m---> \u001b[39m\u001b[32m15\u001b[39m \u001b[43mtorch\u001b[49m\u001b[43m.\u001b[49m\u001b[43mmatmul\u001b[49m\u001b[43m(\u001b[49m\u001b[43mtensor_A\u001b[49m\u001b[43m \u001b[49m\u001b[43m,\u001b[49m\u001b[43m  \u001b[49m\u001b[43mtensor_B\u001b[49m\u001b[43m)\u001b[49m\n",
      "\u001b[31mRuntimeError\u001b[39m: mat1 and mat2 shapes cannot be multiplied (3x2 and 3x2)"
     ]
    }
   ],
   "source": [
    "#Shapes for matrix multiplication\n",
    "tensor_A = torch.tensor([\n",
    "    [1 , 2 ],\n",
    "    [3 , 4 ],\n",
    "    [5 , 6 ]\n",
    "])\n",
    "\n",
    "tensor_B = torch.tensor([\n",
    "    [7 , 10],\n",
    "    [8 , 11],\n",
    "    [9 , 12]\n",
    "])\n",
    "\n",
    "# torch.mm(tensor_A , tensor_B)  # torch.mm is the same as torch.matmul()\n",
    "torch.matmul(tensor_A ,  tensor_B)"
   ]
  },
  {
   "cell_type": "code",
   "execution_count": 39,
   "id": "2d90de23",
   "metadata": {},
   "outputs": [
    {
     "data": {
      "text/plain": [
       "(torch.Size([3, 2]), torch.Size([3, 2]))"
      ]
     },
     "execution_count": 39,
     "metadata": {},
     "output_type": "execute_result"
    }
   ],
   "source": [
    "tensor_A.shape, tensor_B.shape"
   ]
  },
  {
   "cell_type": "markdown",
   "id": "af12ea79",
   "metadata": {},
   "source": [
    "We can make matrix multiplication work between tensor_A and tensor_B by making their inner dimensions match.  \n",
    "  \n",
    "One of the ways to do this is with a transpose (switch the dimensions of a given tensor).  \n",
    "  \n",
    "You can perform transposes in PyTorch using either:  \n",
    "  \n",
    "1. torch.transpose(input, dim0, dim1) - where input is the desired tensor to transpose and dim0 and dim1 are the dimensions to be swapped.  \n",
    "2. tensor.T - where tensor is the desired tensor to transpose. \n",
    "   \n",
    "Let's try the latter.  "
   ]
  },
  {
   "cell_type": "code",
   "execution_count": 40,
   "id": "22c3f300",
   "metadata": {},
   "outputs": [
    {
     "data": {
      "text/plain": [
       "(tensor([[ 7,  8,  9],\n",
       "         [10, 11, 12]]),\n",
       " torch.Size([2, 3]))"
      ]
     },
     "execution_count": 40,
     "metadata": {},
     "output_type": "execute_result"
    }
   ],
   "source": [
    "tensor_B.T, tensor_B.T.shape"
   ]
  },
  {
   "cell_type": "code",
   "execution_count": 41,
   "id": "d1b58bb3",
   "metadata": {},
   "outputs": [
    {
     "name": "stdout",
     "output_type": "stream",
     "text": [
      "Original shapes: tensor_A = torch.Size([3, 2]), tensor_B = torch.Size([3, 2])\n",
      "\n",
      "New shapes: tensor_A = torch.Size([3, 2]) (same as above), tensor_B.T = torch.Size([2, 3])\n",
      "\n",
      "Multiplying: torch.Size([3, 2]) * torch.Size([2, 3]) <- inner dimensions match\n",
      "\n",
      "Output:\n",
      "\n",
      "tensor([[ 27,  30,  33],\n",
      "        [ 61,  68,  75],\n",
      "        [ 95, 106, 117]])\n",
      "\n",
      "Output shape: torch.Size([3, 3])\n"
     ]
    }
   ],
   "source": [
    "# The operation works when tensor_B is transposed\n",
    "print(f\"Original shapes: tensor_A = {tensor_A.shape}, tensor_B = {tensor_B.shape}\\n\")\n",
    "print(f\"New shapes: tensor_A = {tensor_A.shape} (same as above), tensor_B.T = {tensor_B.T.shape}\\n\")\n",
    "print(f\"Multiplying: {tensor_A.shape} * {tensor_B.T.shape} <- inner dimensions match\\n\")\n",
    "print(\"Output:\\n\")\n",
    "output = torch.matmul(tensor_A, tensor_B.T)\n",
    "print(output) \n",
    "print(f\"\\nOutput shape: {output.shape}\")"
   ]
  },
  {
   "cell_type": "markdown",
   "id": "93a5f0d7",
   "metadata": {},
   "source": [
    "**Tensor Aggregation (min, max, sum etc)**"
   ]
  },
  {
   "cell_type": "code",
   "execution_count": 42,
   "id": "29915dd9",
   "metadata": {},
   "outputs": [
    {
     "data": {
      "text/plain": [
       "(tensor([ 0, 10, 20, 30, 40, 50, 60, 70, 80, 90]), torch.Size([10]))"
      ]
     },
     "execution_count": 42,
     "metadata": {},
     "output_type": "execute_result"
    }
   ],
   "source": [
    "#Create a tensor\n",
    "x =  torch.arange(0, 100, 10)\n",
    "x , x.shape"
   ]
  },
  {
   "cell_type": "code",
   "execution_count": 43,
   "id": "8efdb3bc",
   "metadata": {},
   "outputs": [
    {
     "name": "stdout",
     "output_type": "stream",
     "text": [
      "Minimum: 0\n",
      "Maximum: 90\n",
      "Mean: 45.0\n",
      "Sum: 450\n"
     ]
    }
   ],
   "source": [
    "print(f\"Minimum: {x.min()}\")\n",
    "print(f\"Maximum: {x.max()}\")\n",
    "# print(f\"Mean: {x.mean()}\") # this will error\n",
    "print(f\"Mean: {x.type(torch.float32).mean()}\") # won't work without float datatype\n",
    "print(f\"Sum: {x.sum()}\")"
   ]
  },
  {
   "cell_type": "code",
   "execution_count": 44,
   "id": "b2ed5b69",
   "metadata": {},
   "outputs": [
    {
     "data": {
      "text/plain": [
       "(tensor(90), tensor(0), tensor(45.), tensor(450))"
      ]
     },
     "execution_count": 44,
     "metadata": {},
     "output_type": "execute_result"
    }
   ],
   "source": [
    "torch.max(x), torch.min(x), torch.mean(x.type(torch.float32)), torch.sum(x)"
   ]
  },
  {
   "cell_type": "markdown",
   "id": "5da7c770",
   "metadata": {},
   "source": [
    "Positional min/max  \n",
    "You can also find the index of a tensor where the max or minimum occurs with torch.argmax() and torch.argmin() respectively.  \n",
    "  \n",
    "This is helpful incase you just want the position where the highest (or lowest) value is and not the actual value itself  "
   ]
  },
  {
   "cell_type": "code",
   "execution_count": 45,
   "id": "72d3322b",
   "metadata": {},
   "outputs": [
    {
     "name": "stdout",
     "output_type": "stream",
     "text": [
      "Tensor : tensor([10, 20, 30, 40, 50, 60, 70, 80, 90])\n",
      "Index where the min value occurs 0\n",
      "Index where the max value occurs 8\n"
     ]
    }
   ],
   "source": [
    "#Crate a tensor\n",
    "tensor = torch.arange(10 , 100 , 10)\n",
    "print(f\"Tensor : {tensor}\")\n",
    "\n",
    "# Returns index of max and min values\n",
    "print(f\"Index where the min value occurs {tensor.argmin()}\")\n",
    "print(f\"Index where the max value occurs {tensor.argmax()}\")"
   ]
  },
  {
   "cell_type": "markdown",
   "id": "96a337ec",
   "metadata": {},
   "source": [
    "Change tensor datatype  \n",
    "As mentioned, a common issue with deep learning operations is having your tensors in different datatypes.  \n",
    "  \n",
    "If one tensor is in torch.float64 and another is in torch.float32, you might run into some errors.  \n",
    "  \n",
    "But there's a fix.  \n",
    "  \n",
    "You can change the datatypes of tensors using torch.Tensor.type(dtype=None) where the dtype parameter is   the datatype you'd like to use.  \n",
    "  \n",
    "First we'll create a tensor and check its datatype (the default is torch.float32).  "
   ]
  },
  {
   "cell_type": "code",
   "execution_count": 46,
   "id": "595743ea",
   "metadata": {},
   "outputs": [
    {
     "data": {
      "text/plain": [
       "torch.float32"
      ]
     },
     "execution_count": 46,
     "metadata": {},
     "output_type": "execute_result"
    }
   ],
   "source": [
    "#Creating a tensor by default\n",
    "tensor = torch.arange(10. , 100. , 10.)\n",
    "tensor.dtype"
   ]
  },
  {
   "cell_type": "code",
   "execution_count": 47,
   "id": "298f6b08",
   "metadata": {},
   "outputs": [
    {
     "data": {
      "text/plain": [
       "tensor([10., 20., 30., 40., 50., 60., 70., 80., 90.], dtype=torch.float16)"
      ]
     },
     "execution_count": 47,
     "metadata": {},
     "output_type": "execute_result"
    }
   ],
   "source": [
    "#Now we'll create another tensor the same as before but change its datatype to torch.float16\n",
    "tensor_float16 = tensor.type(torch.float16)\n",
    "tensor_float16"
   ]
  },
  {
   "cell_type": "code",
   "execution_count": 48,
   "id": "e7d680f2",
   "metadata": {},
   "outputs": [
    {
     "data": {
      "text/plain": [
       "tensor([10, 20, 30, 40, 50, 60, 70, 80, 90], dtype=torch.int8)"
      ]
     },
     "execution_count": 48,
     "metadata": {},
     "output_type": "execute_result"
    }
   ],
   "source": [
    "# And we can do something similar to make a torch.int8 tensor\n",
    "tensor_int8 = tensor.type(torch.int8)\n",
    "tensor_int8"
   ]
  },
  {
   "cell_type": "markdown",
   "id": "29a6ffad",
   "metadata": {},
   "source": [
    "### Reshaping, stacking, squeezing and unsqueezing\n",
    "\n",
    "Often times you'll want to reshape or change the dimensions of your tensors without actually changing the values inside them.\n",
    "\n",
    "To do so, some popular methods are:\n",
    "\n",
    "| Method | One-line description |\n",
    "| ----- | ----- |\n",
    "| [`torch.reshape(input, shape)`](https://pytorch.org/docs/stable/generated/torch.reshape.html#torch.reshape) | Reshapes `input` to `shape` (if compatible), can also use `torch.Tensor.reshape()`. |\n",
    "| [`Tensor.view(shape)`](https://pytorch.org/docs/stable/generated/torch.Tensor.view.html) | Returns a view of the original tensor in a different `shape` but shares the same data as the original tensor. |\n",
    "| [`torch.stack(tensors, dim=0)`](https://pytorch.org/docs/1.9.1/generated/torch.stack.html) | Concatenates a sequence of `tensors` along a new dimension (`dim`), all `tensors` must be same size. |\n",
    "| [`torch.squeeze(input)`](https://pytorch.org/docs/stable/generated/torch.squeeze.html) | Squeezes `input` to remove all the dimenions with value `1`. |\n",
    "| [`torch.unsqueeze(input, dim)`](https://pytorch.org/docs/1.9.1/generated/torch.unsqueeze.html) | Returns `input` with a dimension value of `1` added at `dim`. | \n",
    "| [`torch.permute(input, dims)`](https://pytorch.org/docs/stable/generated/torch.permute.html) | Returns a *view* of the original `input` with its dimensions permuted (rearranged) to `dims`. | \n",
    "\n",
    "Why do any of these?\n",
    "\n",
    "Because deep learning models (neural networks) are all about manipulating tensors in some way. And because of the rules of matrix multiplication, if you've got shape mismatches, you'll run into errors. These methods help you make sure the right elements of your tensors are mixing with the right elements of other tensors. \n",
    "\n",
    "Let's try them out."
   ]
  },
  {
   "cell_type": "code",
   "execution_count": 49,
   "id": "9c269fd8",
   "metadata": {},
   "outputs": [
    {
     "data": {
      "text/plain": [
       "(tensor([0, 1, 2, 3, 4, 5, 6, 7, 8, 9]), torch.Size([10]))"
      ]
     },
     "execution_count": 49,
     "metadata": {},
     "output_type": "execute_result"
    }
   ],
   "source": [
    "#Lets create a tensor\n",
    "x = torch.arange(0 , 10)\n",
    "x , x.shape"
   ]
  },
  {
   "cell_type": "code",
   "execution_count": 50,
   "id": "228a32de",
   "metadata": {},
   "outputs": [
    {
     "data": {
      "text/plain": [
       "(tensor([[0, 1, 2, 3, 4, 5, 6, 7, 8, 9]]), torch.Size([1, 10]))"
      ]
     },
     "execution_count": 50,
     "metadata": {},
     "output_type": "execute_result"
    }
   ],
   "source": [
    "#Add an extra dimention\n",
    "x_reshaped = x.reshape(1 , 10)\n",
    "x_reshaped, x_reshaped.shape"
   ]
  },
  {
   "cell_type": "code",
   "execution_count": 51,
   "id": "831ce898",
   "metadata": {},
   "outputs": [
    {
     "data": {
      "text/plain": [
       "(tensor([[0, 1, 2, 3, 4, 5, 6, 7, 8, 9]]), torch.Size([1, 10]))"
      ]
     },
     "execution_count": 51,
     "metadata": {},
     "output_type": "execute_result"
    }
   ],
   "source": [
    "#Change the view\n",
    "z = x.view(1,10)\n",
    "z, z.shape"
   ]
  },
  {
   "cell_type": "markdown",
   "id": "2ad2dd60",
   "metadata": {},
   "source": [
    "Remember though, changing the view of a tensor with torch.view() really only creates a new view of the same tensor.  \n",
    "  \n",
    "So changing the view changes the original tensor too.  "
   ]
  },
  {
   "cell_type": "code",
   "execution_count": 52,
   "id": "17b8a447",
   "metadata": {},
   "outputs": [
    {
     "data": {
      "text/plain": [
       "(tensor([[5, 1, 2, 3, 4, 5, 6, 7, 8, 9]]),\n",
       " tensor([5, 1, 2, 3, 4, 5, 6, 7, 8, 9]))"
      ]
     },
     "execution_count": 52,
     "metadata": {},
     "output_type": "execute_result"
    }
   ],
   "source": [
    "z[:,0] = 5\n",
    "z , x"
   ]
  },
  {
   "cell_type": "code",
   "execution_count": 53,
   "id": "b3024072",
   "metadata": {},
   "outputs": [
    {
     "data": {
      "text/plain": [
       "tensor([[5, 5, 5, 5],\n",
       "        [1, 1, 1, 1],\n",
       "        [2, 2, 2, 2],\n",
       "        [3, 3, 3, 3],\n",
       "        [4, 4, 4, 4],\n",
       "        [5, 5, 5, 5],\n",
       "        [6, 6, 6, 6],\n",
       "        [7, 7, 7, 7],\n",
       "        [8, 8, 8, 8],\n",
       "        [9, 9, 9, 9]])"
      ]
     },
     "execution_count": 53,
     "metadata": {},
     "output_type": "execute_result"
    }
   ],
   "source": [
    "#Stack tensors on top of each other\n",
    "x_stacked = torch.stack([x,x,x,x], dim = 1)\n",
    "x_stacked"
   ]
  },
  {
   "cell_type": "code",
   "execution_count": 54,
   "id": "4837de3f",
   "metadata": {},
   "outputs": [
    {
     "data": {
      "text/plain": [
       "tensor([[5, 1, 2, 3, 4, 5, 6, 7, 8, 9],\n",
       "        [5, 1, 2, 3, 4, 5, 6, 7, 8, 9],\n",
       "        [5, 1, 2, 3, 4, 5, 6, 7, 8, 9],\n",
       "        [5, 1, 2, 3, 4, 5, 6, 7, 8, 9]])"
      ]
     },
     "execution_count": 54,
     "metadata": {},
     "output_type": "execute_result"
    }
   ],
   "source": [
    "x_stacked = torch.stack([x,x,x,x], dim = 0)\n",
    "x_stacked"
   ]
  },
  {
   "cell_type": "code",
   "execution_count": 59,
   "id": "1e306deb",
   "metadata": {},
   "outputs": [
    {
     "name": "stdout",
     "output_type": "stream",
     "text": [
      "Previous Tensor tensor([[5, 1, 2, 3, 4, 5, 6, 7, 8, 9]])\n",
      "Previous Tensor Shape torch.Size([1, 10])\n",
      "\n",
      "New tensor: tensor([5, 1, 2, 3, 4, 5, 6, 7, 8, 9])\n",
      "\n",
      "New shape: torch.Size([10])\n"
     ]
    }
   ],
   "source": [
    "# torch.squeeze() -  removes all single dimentions from a target tensor\n",
    "print(f\"Previous Tensor {x_reshaped}\")\n",
    "print(f\"Previous Tensor Shape {x_reshaped.shape}\")\n",
    "\n",
    "#Remove extra dimension\n",
    "x_squeezed = x_reshaped.squeeze()\n",
    "print(f\"\\nNew tensor: {x_squeezed}\")\n",
    "print(f\"\\nNew shape: {x_squeezed.shape}\")"
   ]
  },
  {
   "cell_type": "code",
   "execution_count": 60,
   "id": "82ffefdb",
   "metadata": {},
   "outputs": [
    {
     "name": "stdout",
     "output_type": "stream",
     "text": [
      "Previous Traget tensor([5, 1, 2, 3, 4, 5, 6, 7, 8, 9])\n",
      "Previous Traget Shape torch.Size([10])\n",
      "New Tensor tensor([[5, 1, 2, 3, 4, 5, 6, 7, 8, 9]])\n",
      "New Tensor Shape torch.Size([1, 10])\n"
     ]
    }
   ],
   "source": [
    "#torch.unsqueeze - adds a single dimention to target tensor at specific dim \n",
    "print(f\"Previous Traget {x_squeezed}\")\n",
    "print(f\"Previous Traget Shape {x_squeezed.shape}\")\n",
    "\n",
    "#Add extra dimension with unsqueeze\n",
    "x_unsqeezed = x_squeezed.unsqueeze(dim = 0)\n",
    "print(f\"New Tensor {x_unsqeezed}\")\n",
    "print(f\"New Tensor Shape {x_unsqeezed.shape}\")"
   ]
  },
  {
   "cell_type": "code",
   "execution_count": 63,
   "id": "e58a4b69",
   "metadata": {},
   "outputs": [
    {
     "name": "stdout",
     "output_type": "stream",
     "text": [
      "Previous shape: torch.Size([244, 244, 3])\n",
      "New shape: torch.Size([3, 244, 244])\n"
     ]
    }
   ],
   "source": [
    "#You can also rearrange the order of axes values with torch.permute(input, dims)\n",
    "x_original = torch.rand(size = (244,244,3))\n",
    "\n",
    "#Permute the original tensor to rearrange dims\n",
    "x_permuted = x_original.permute(2, 0 ,1)  # shifts axis 0->1, 1->2, 2->0\n",
    "\n",
    "print(f\"Previous shape: {x_original.shape}\")\n",
    "print(f\"New shape: {x_permuted.shape}\")"
   ]
  },
  {
   "cell_type": "markdown",
   "id": "e82c11cc",
   "metadata": {},
   "source": [
    "> Note: Permuted and original share the same memory"
   ]
  },
  {
   "cell_type": "markdown",
   "id": "391e0cd7",
   "metadata": {},
   "source": [
    "### **Indexing (selecting data from tensors)**   \n",
    "Sometimes you'll want to select specific data from tensors (for example, only the first column or second row).  \n",
    "  \n",
    "To do so, you can use indexing.  \n",
    "  \n",
    "If you've ever done indexing on Python lists or NumPy arrays, indexing in PyTorch with tensors is very similar.  "
   ]
  },
  {
   "cell_type": "code",
   "execution_count": 64,
   "id": "d17f512b",
   "metadata": {},
   "outputs": [
    {
     "data": {
      "text/plain": [
       "(tensor([[[1, 2, 3],\n",
       "          [4, 5, 6],\n",
       "          [7, 8, 9]]]),\n",
       " torch.Size([1, 3, 3]))"
      ]
     },
     "execution_count": 64,
     "metadata": {},
     "output_type": "execute_result"
    }
   ],
   "source": [
    "#Create tensor\n",
    "x = torch.arange(1 , 10).reshape(1,3,3)\n",
    "x ,  x.shape"
   ]
  },
  {
   "cell_type": "code",
   "execution_count": 65,
   "id": "546d51eb",
   "metadata": {},
   "outputs": [
    {
     "name": "stdout",
     "output_type": "stream",
     "text": [
      "First square bracket:\n",
      "tensor([[1, 2, 3],\n",
      "        [4, 5, 6],\n",
      "        [7, 8, 9]])\n",
      "Second square bracket: tensor([1, 2, 3])\n",
      "Third square bracket: 1\n"
     ]
    }
   ],
   "source": [
    "#Indexing values goes outer dimension -> inner dimension (check out the square brackets).\n",
    "\n",
    "# Let's index bracket by bracket\n",
    "print(f\"First square bracket:\\n{x[0]}\") \n",
    "print(f\"Second square bracket: {x[0][0]}\") \n",
    "print(f\"Third square bracket: {x[0][0][0]}\")"
   ]
  },
  {
   "cell_type": "code",
   "execution_count": 66,
   "id": "71674b14",
   "metadata": {},
   "outputs": [
    {
     "data": {
      "text/plain": [
       "tensor([[1, 2, 3]])"
      ]
     },
     "execution_count": 66,
     "metadata": {},
     "output_type": "execute_result"
    }
   ],
   "source": [
    "#You can also use : to specify \"all values in this dimension\" \n",
    "# and then use a comma (,) to add another dimension.\n",
    "\n",
    "# Get all values of 0th dimension and the 0 index of 1st dimension\n",
    "x[:, 0]"
   ]
  },
  {
   "cell_type": "code",
   "execution_count": 67,
   "id": "c8b20467",
   "metadata": {},
   "outputs": [
    {
     "data": {
      "text/plain": [
       "tensor([[2, 5, 8]])"
      ]
     },
     "execution_count": 67,
     "metadata": {},
     "output_type": "execute_result"
    }
   ],
   "source": [
    "# Get all values of 0th & 1st dimensions but only index 1 of 2nd dimension\n",
    "x[:, :, 1]"
   ]
  },
  {
   "cell_type": "code",
   "execution_count": 68,
   "id": "72dcd7fa",
   "metadata": {},
   "outputs": [
    {
     "data": {
      "text/plain": [
       "tensor([5])"
      ]
     },
     "execution_count": 68,
     "metadata": {},
     "output_type": "execute_result"
    }
   ],
   "source": [
    "# Get all values of the 0 dimension but only the 1 index value of the 1st and 2nd dimension\n",
    "x[:, 1, 1]"
   ]
  }
 ],
 "metadata": {
  "kernelspec": {
   "display_name": "venv",
   "language": "python",
   "name": "python3"
  },
  "language_info": {
   "codemirror_mode": {
    "name": "ipython",
    "version": 3
   },
   "file_extension": ".py",
   "mimetype": "text/x-python",
   "name": "python",
   "nbconvert_exporter": "python",
   "pygments_lexer": "ipython3",
   "version": "3.13.1"
  }
 },
 "nbformat": 4,
 "nbformat_minor": 5
}
